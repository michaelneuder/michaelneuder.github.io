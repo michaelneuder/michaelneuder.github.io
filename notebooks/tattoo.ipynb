{
 "cells": [
  {
   "cell_type": "code",
   "execution_count": 1,
   "metadata": {},
   "outputs": [],
   "source": [
    "import numpy as np\n",
    "import pandas as pd\n",
    "import matplotlib.pyplot as plt\n",
    "import json\n",
    "import requests\n",
    "import time\n",
    "import tqdm\n",
    "from datetime import datetime\n",
    "plt.rcParams['axes.grid'] = True\n",
    "plt.rcParams['grid.alpha'] = 0.3\n",
    "plt.rcParams['axes.titlesize'] = 18"
   ]
  },
  {
   "cell_type": "markdown",
   "metadata": {},
   "source": [
    "Finding the probability that given a 20-byte Ethereum EOA, when you line up the letters into 3 rows of 14, there are exactly 5 matches.\n",
    "\n",
    "Eg., \n",
    "\n",
    "```\n",
    "0x3d84a438Af72\n",
    "F6396785EEa97B\n",
    "32F903520e36C8\n",
    "```\n",
    "we have the distribution $X \\sim Bin(26, 1/16)$. So $P(X = 5) = \\binom{26}{5} \\left(\\frac{1}{16}\\right)^5 \\left(\\frac{15}{16}\\right)^{21}.$\n",
    "\n",
    "$$\n",
    "\\begin{align}\n",
    "P(X=5) &= \\frac{82025770389239788055419921875}{5070602400912917605986812821504} \\\\\n",
    "&\\approx 0.0161767\n",
    "\\end{align}\n",
    "$$"
   ]
  },
  {
   "cell_type": "code",
   "execution_count": 27,
   "metadata": {},
   "outputs": [],
   "source": [
    "def getMatches(inp):\n",
    "    row1 = inp[:12]\n",
    "    row2 = inp[12:26]\n",
    "    row3 = inp[26:]\n",
    "\n",
    "    return np.sum(row1 == row2[2:]) + np.sum(row2 == row3)"
   ]
  },
  {
   "cell_type": "code",
   "execution_count": 32,
   "metadata": {},
   "outputs": [
    {
     "data": {
      "text/plain": [
       "5"
      ]
     },
     "execution_count": 32,
     "metadata": {},
     "output_type": "execute_result"
    }
   ],
   "source": [
    "inp = '0x3d84a438Af72F6396785EEa97B32F903520e36C8'\n",
    "inp = np.asarray([int(inp[i:i+1],16) for i in range(2, len(inp))])\n",
    "\n",
    "getMatches(inp)"
   ]
  },
  {
   "cell_type": "code",
   "execution_count": 60,
   "metadata": {},
   "outputs": [
    {
     "data": {
      "text/plain": [
       "array([ 5, 13,  0,  3,  9, 15, 15, 13,  5,  9,  5,  5,  0,  3,  5,  3, 13,\n",
       "       12, 15,  8, 15,  5,  0,  6,  9,  8,  2,  3, 14,  5,  0,  0,  2, 14,\n",
       "        7,  5, 13,  8, 10,  3])"
      ]
     },
     "execution_count": 60,
     "metadata": {},
     "output_type": "execute_result"
    }
   ],
   "source": [
    "rnd = np.random.randint(16, size=40)\n",
    "rnd"
   ]
  },
  {
   "cell_type": "code",
   "execution_count": 61,
   "metadata": {},
   "outputs": [
    {
     "data": {
      "text/plain": [
       "4"
      ]
     },
     "execution_count": 61,
     "metadata": {},
     "output_type": "execute_result"
    }
   ],
   "source": [
    "getMatches(rnd)"
   ]
  },
  {
   "cell_type": "code",
   "execution_count": 70,
   "metadata": {},
   "outputs": [
    {
     "name": "stderr",
     "output_type": "stream",
     "text": [
      "100%|██████████| 1000000/1000000 [00:30<00:00, 32997.65it/s]\n"
     ]
    }
   ],
   "source": [
    "n = int(1e6)\n",
    "res = dict.fromkeys(range(20),0)\n",
    "for _ in tqdm.tqdm(range(n)):\n",
    "    rnd = np.random.randint(16, size=40)\n",
    "    matches = getMatches(rnd)\n",
    "    res[matches] += 1"
   ]
  },
  {
   "cell_type": "code",
   "execution_count": 71,
   "metadata": {},
   "outputs": [
    {
     "data": {
      "text/plain": [
       "0.01644"
      ]
     },
     "execution_count": 71,
     "metadata": {},
     "output_type": "execute_result"
    }
   ],
   "source": [
    "res[5] /  n"
   ]
  }
 ],
 "metadata": {
  "kernelspec": {
   "display_name": "Python 3",
   "language": "python",
   "name": "python3"
  },
  "language_info": {
   "codemirror_mode": {
    "name": "ipython",
    "version": 3
   },
   "file_extension": ".py",
   "mimetype": "text/x-python",
   "name": "python",
   "nbconvert_exporter": "python",
   "pygments_lexer": "ipython3",
   "version": "3.8.16"
  }
 },
 "nbformat": 4,
 "nbformat_minor": 4
}
