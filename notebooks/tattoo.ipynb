{
 "cells": [
  {
   "cell_type": "code",
   "execution_count": 1,
   "metadata": {},
   "outputs": [],
   "source": [
    "import numpy as np\n",
    "import pandas as pd\n",
    "import matplotlib.pyplot as plt\n",
    "import json\n",
    "import requests\n",
    "import time\n",
    "import tqdm\n",
    "from datetime import datetime\n",
    "plt.rcParams['axes.grid'] = True\n",
    "plt.rcParams['grid.alpha'] = 0.3\n",
    "plt.rcParams['axes.titlesize'] = 18"
   ]
  },
  {
   "cell_type": "markdown",
   "metadata": {},
   "source": [
    "Finding the probability that given a 20-byte Ethereum EOA, when you line up the letters into 3 rows of 14, there are exactly 5 matches.\n",
    "\n",
    "Eg., \n",
    "\n",
    "```\n",
    "0x3d84a438Af72\n",
    "F6396785EEa97B\n",
    "32F903520e36C8\n",
    "```\n",
    "we have the distribution $X \\sim Bin(26, 1/16)$. So $P(X = 5) = \\binom{26}{5} \\left(\\frac{1}{16}\\right)^5 \\left(\\frac{15}{16}\\right)^{21}.$\n",
    "\n",
    "$$\n",
    "\\begin{align}\n",
    "P(X=5) &= \\frac{82025770389239788055419921875}{5070602400912917605986812821504} \\\\\n",
    "&\\approx 0.0161767\n",
    "\\end{align}\n",
    "$$"
   ]
  },
  {
   "cell_type": "code",
   "execution_count": 2,
   "metadata": {},
   "outputs": [],
   "source": [
    "def getMatches(inp):\n",
    "    row1 = inp[:12]\n",
    "    row2 = inp[12:26]\n",
    "    row3 = inp[26:]\n",
    "\n",
    "    return np.sum(row1 == row2[2:]) + np.sum(row2 == row3)"
   ]
  },
  {
   "cell_type": "code",
   "execution_count": 3,
   "metadata": {},
   "outputs": [
    {
     "data": {
      "text/plain": [
       "5"
      ]
     },
     "execution_count": 3,
     "metadata": {},
     "output_type": "execute_result"
    }
   ],
   "source": [
    "inp = '0x3d84a438Af72F6396785EEa97B32F903520e36C8'\n",
    "inp = np.asarray([int(inp[i:i+1],16) for i in range(2, len(inp))])\n",
    "\n",
    "getMatches(inp)"
   ]
  },
  {
   "cell_type": "code",
   "execution_count": 4,
   "metadata": {},
   "outputs": [
    {
     "data": {
      "text/plain": [
       "array([ 9,  2,  6, 10, 12, 10,  7,  8, 12,  8, 15, 10,  7,  0,  2,  2,  6,\n",
       "        9,  7, 11,  8, 10,  3,  7,  1, 14, 14, 11, 15,  1,  1,  5, 15, 12,\n",
       "       12,  8,  6,  7,  9,  1])"
      ]
     },
     "execution_count": 4,
     "metadata": {},
     "output_type": "execute_result"
    }
   ],
   "source": [
    "rnd = np.random.randint(16, size=40)\n",
    "rnd"
   ]
  },
  {
   "cell_type": "code",
   "execution_count": 5,
   "metadata": {},
   "outputs": [
    {
     "data": {
      "text/plain": [
       "3"
      ]
     },
     "execution_count": 5,
     "metadata": {},
     "output_type": "execute_result"
    }
   ],
   "source": [
    "getMatches(rnd)"
   ]
  },
  {
   "cell_type": "code",
   "execution_count": 19,
   "metadata": {},
   "outputs": [
    {
     "name": "stderr",
     "output_type": "stream",
     "text": [
      "100%|██████████| 100000/100000 [00:03<00:00, 32010.84it/s]\n",
      "  6%|▌         | 5813/100000 [00:00<00:03, 27672.10it/s]"
     ]
    },
    {
     "name": "stdout",
     "output_type": "stream",
     "text": [
      "0.01682\n"
     ]
    },
    {
     "name": "stderr",
     "output_type": "stream",
     "text": [
      "100%|██████████| 100000/100000 [00:03<00:00, 33085.18it/s]\n",
      "  7%|▋         | 6933/100000 [00:00<00:02, 34810.34it/s]"
     ]
    },
    {
     "name": "stdout",
     "output_type": "stream",
     "text": [
      "0.01565\n"
     ]
    },
    {
     "name": "stderr",
     "output_type": "stream",
     "text": [
      "100%|██████████| 100000/100000 [00:02<00:00, 34423.92it/s]\n",
      "  7%|▋         | 6744/100000 [00:00<00:02, 33930.87it/s]"
     ]
    },
    {
     "name": "stdout",
     "output_type": "stream",
     "text": [
      "0.0165\n"
     ]
    },
    {
     "name": "stderr",
     "output_type": "stream",
     "text": [
      "100%|██████████| 100000/100000 [00:03<00:00, 33152.01it/s]\n",
      "  6%|▌         | 6166/100000 [00:00<00:03, 30499.54it/s]"
     ]
    },
    {
     "name": "stdout",
     "output_type": "stream",
     "text": [
      "0.01591\n"
     ]
    },
    {
     "name": "stderr",
     "output_type": "stream",
     "text": [
      "100%|██████████| 100000/100000 [00:03<00:00, 33138.01it/s]"
     ]
    },
    {
     "name": "stdout",
     "output_type": "stream",
     "text": [
      "0.01546\n"
     ]
    },
    {
     "name": "stderr",
     "output_type": "stream",
     "text": [
      "\n"
     ]
    }
   ],
   "source": [
    "for i in range(5):\n",
    "    n = int(1e5)\n",
    "    res = dict.fromkeys(range(20),0)\n",
    "    for _ in tqdm.tqdm(range(n)):\n",
    "        rnd = np.random.randint(16, size=40)\n",
    "        matches = getMatches(rnd)\n",
    "        res[matches] += 1\n",
    "    print(res[5] / n)"
   ]
  },
  {
   "cell_type": "code",
   "execution_count": 48,
   "metadata": {},
   "outputs": [],
   "source": [
    "# distinct matches\n",
    "def getMatchValues(inp):\n",
    "    row1 = inp[:12]\n",
    "    row2 = inp[12:26]\n",
    "    row3 = inp[26:]\n",
    "\n",
    "    return np.append(row1[row1 == row2[2:]], row2[2:][row2[2:] == row3[2:]])"
   ]
  },
  {
   "cell_type": "code",
   "execution_count": 49,
   "metadata": {},
   "outputs": [
    {
     "data": {
      "text/plain": [
       "array([ 3, 10,  7,  9, 14])"
      ]
     },
     "execution_count": 49,
     "metadata": {},
     "output_type": "execute_result"
    }
   ],
   "source": [
    "inp = '0x3d84a438Af72F6396785EEa97B32F903520e36C8'\n",
    "inp = np.asarray([int(inp[i:i+1],16) for i in range(2, len(inp))])\n",
    "\n",
    "getMatchValues(inp)"
   ]
  },
  {
   "cell_type": "code",
   "execution_count": 50,
   "metadata": {},
   "outputs": [
    {
     "data": {
      "text/plain": [
       "array([ 3, 10,  7,  9, 14])"
      ]
     },
     "execution_count": 50,
     "metadata": {},
     "output_type": "execute_result"
    }
   ],
   "source": [
    "v"
   ]
  },
  {
   "cell_type": "code",
   "execution_count": 51,
   "metadata": {},
   "outputs": [
    {
     "data": {
      "text/plain": [
       "True"
      ]
     },
     "execution_count": 51,
     "metadata": {},
     "output_type": "execute_result"
    }
   ],
   "source": [
    "len(set(v)) == len(v)"
   ]
  },
  {
   "cell_type": "code",
   "execution_count": 78,
   "metadata": {},
   "outputs": [
    {
     "data": {
      "text/plain": [
       "(0.1171875, 0.11666666666666667, 0.1025390625, 0.09521484375, 0.087890625)"
      ]
     },
     "execution_count": 78,
     "metadata": {},
     "output_type": "execute_result"
    }
   ],
   "source": [
    "2 * 1/16 * 15/16, 2 * 1/16 * 15/16 * 15/16, 2 * 1/16 * 15/16 * 14/16, 2 * 1/16 * 15/16 * 13/16, 2 * 1/16 * 15/16 * 12/16"
   ]
  },
  {
   "cell_type": "code",
   "execution_count": 77,
   "metadata": {},
   "outputs": [
    {
     "name": "stderr",
     "output_type": "stream",
     "text": [
      "100%|██████████| 1000000/1000000 [00:14<00:00, 68029.81it/s]\n"
     ]
    },
    {
     "data": {
      "text/plain": [
       "0.087514"
      ]
     },
     "execution_count": 77,
     "metadata": {},
     "output_type": "execute_result"
    }
   ],
   "source": [
    "n = int(1e6)\n",
    "successes = 0\n",
    "for _ in tqdm.tqdm(range(n)):\n",
    "    rnd = np.random.randint(16, size=3)\n",
    "    if (rnd[0] == rnd[1]) and (rnd[1] != rnd[2]) \\\n",
    "      and (rnd[1] != 0) and (rnd[1] != 1) \\\n",
    "      and (rnd[1] != 2) and (rnd[1] != 3):\n",
    "        successes += 1\n",
    "    if (rnd[0] != rnd[1]) and (rnd[1] == rnd[2]) \\\n",
    "      and (rnd[1] != 0) and (rnd[1] != 1) \\\n",
    "      and (rnd[1] != 2) and (rnd[1] != 3):\n",
    "        successes += 1\n",
    "successes / n"
   ]
  },
  {
   "cell_type": "code",
   "execution_count": 271,
   "metadata": {},
   "outputs": [
    {
     "name": "stderr",
     "output_type": "stream",
     "text": [
      "100%|██████████| 100000/100000 [00:03<00:00, 31486.21it/s]\n",
      "  3%|▎         | 2777/100000 [00:00<00:03, 27763.61it/s]"
     ]
    },
    {
     "name": "stdout",
     "output_type": "stream",
     "text": [
      "0.00361\n"
     ]
    },
    {
     "name": "stderr",
     "output_type": "stream",
     "text": [
      "100%|██████████| 100000/100000 [00:03<00:00, 31646.13it/s]\n",
      "  6%|▌         | 6119/100000 [00:00<00:03, 30420.03it/s]"
     ]
    },
    {
     "name": "stdout",
     "output_type": "stream",
     "text": [
      "0.00367\n"
     ]
    },
    {
     "name": "stderr",
     "output_type": "stream",
     "text": [
      "100%|██████████| 100000/100000 [00:03<00:00, 32010.96it/s]\n",
      "  6%|▌         | 6200/100000 [00:00<00:03, 30814.19it/s]"
     ]
    },
    {
     "name": "stdout",
     "output_type": "stream",
     "text": [
      "0.00363\n"
     ]
    },
    {
     "name": "stderr",
     "output_type": "stream",
     "text": [
      "100%|██████████| 100000/100000 [00:03<00:00, 32196.54it/s]\n",
      "  6%|▋         | 6262/100000 [00:00<00:03, 31191.63it/s]"
     ]
    },
    {
     "name": "stdout",
     "output_type": "stream",
     "text": [
      "0.00371\n"
     ]
    },
    {
     "name": "stderr",
     "output_type": "stream",
     "text": [
      "100%|██████████| 100000/100000 [00:03<00:00, 32229.63it/s]"
     ]
    },
    {
     "name": "stdout",
     "output_type": "stream",
     "text": [
      "0.00355\n"
     ]
    },
    {
     "name": "stderr",
     "output_type": "stream",
     "text": [
      "\n"
     ]
    }
   ],
   "source": [
    "for i in range(5):\n",
    "    n = int(1e5)\n",
    "    res = dict.fromkeys(range(20),0)\n",
    "    for _ in tqdm.tqdm(range(n)):\n",
    "        rnd = np.random.randint(16, size=40)\n",
    "        matches = getMatchValues(rnd)\n",
    "        matchCount = len(matches)\n",
    "        if len(set(matches)) == matchCount:\n",
    "            res[matchCount] += 1\n",
    "    print(res[5] / n)"
   ]
  },
  {
   "cell_type": "code",
   "execution_count": null,
   "metadata": {},
   "outputs": [],
   "source": []
  },
  {
   "cell_type": "code",
   "execution_count": 81,
   "metadata": {},
   "outputs": [
    {
     "ename": "SyntaxError",
     "evalue": "invalid syntax (<ipython-input-81-013e096afc94>, line 3)",
     "output_type": "error",
     "traceback": [
      "\u001b[0;36m  File \u001b[0;32m\"<ipython-input-81-013e096afc94>\"\u001b[0;36m, line \u001b[0;32m3\u001b[0m\n\u001b[0;31m    top   16/16\u001b[0m\n\u001b[0m          ^\u001b[0m\n\u001b[0;31mSyntaxError\u001b[0m\u001b[0;31m:\u001b[0m invalid syntax\n"
     ]
    }
   ],
   "source": [
    "# prob of 5 unique matching hex characters in a row\n",
    "\n",
    "top   16/16\n",
    "match 1/16\n",
    "\n",
    "top   15/16\n",
    "match 1/16\n",
    "\n",
    "top   14/16\n",
    "match 1/16\n",
    "\n",
    "top   13/16\n",
    "match 1/16\n",
    "\n",
    "top   12/16\n",
    "match 1/16\n",
    "\n",
    "\n",
    "middle 16/16\n",
    "match  1/16\n",
    "nmatch 15/16\n",
    "\n",
    "middle 15/16\n",
    "match  1/16\n",
    "nmatch 15/16\n",
    "\n",
    "middle 14/16\n",
    "match  1/16\n",
    "nmatch 15/16"
   ]
  },
  {
   "cell_type": "code",
   "execution_count": 84,
   "metadata": {},
   "outputs": [
    {
     "data": {
      "text/plain": [
       "(0.0625, 0.05859375, 0.0546875, 0.05078125, 0.046875)"
      ]
     },
     "execution_count": 84,
     "metadata": {},
     "output_type": "execute_result"
    }
   ],
   "source": [
    "1/16, 15/(16**2), 14/(16**2), 13/(16**2), 12/(16**2)"
   ]
  },
  {
   "cell_type": "code",
   "execution_count": 89,
   "metadata": {},
   "outputs": [
    {
     "data": {
      "text/plain": [
       "0.0003475294215604663"
      ]
     },
     "execution_count": 89,
     "metadata": {},
     "output_type": "execute_result"
    }
   ],
   "source": [
    "(1/16)**5 * 15*14*13*12 / (16**4) * 729"
   ]
  },
  {
   "cell_type": "code",
   "execution_count": 88,
   "metadata": {},
   "outputs": [
    {
     "data": {
      "text/plain": [
       "0.008053746169967013"
      ]
     },
     "execution_count": 88,
     "metadata": {},
     "output_type": "execute_result"
    }
   ],
   "source": [
    "(1/16)**5 *(15/16)**5 * (2**5) * 15*14*13*12 / (16**4) * 729"
   ]
  },
  {
   "cell_type": "code",
   "execution_count": null,
   "metadata": {},
   "outputs": [],
   "source": []
  },
  {
   "cell_type": "code",
   "execution_count": 227,
   "metadata": {},
   "outputs": [],
   "source": [
    "# prob exact 5 unique out of 2 rows of 12"
   ]
  },
  {
   "cell_type": "code",
   "execution_count": 172,
   "metadata": {},
   "outputs": [
    {
     "data": {
      "text/plain": [
       "0.00024031903176442368"
      ]
     },
     "execution_count": 172,
     "metadata": {},
     "output_type": "execute_result"
    }
   ],
   "source": [
    "792 * (1/16)**5 * (15/16)**7 * 15*14*13*12 / 16**4"
   ]
  },
  {
   "cell_type": "code",
   "execution_count": 92,
   "metadata": {},
   "outputs": [],
   "source": [
    "def generateRows():\n",
    "    r1 = np.random.randint(16, size=12)\n",
    "    r2 = np.random.randint(16, size=12)\n",
    "    return r1, r2"
   ]
  },
  {
   "cell_type": "code",
   "execution_count": 160,
   "metadata": {},
   "outputs": [
    {
     "data": {
      "text/plain": [
       "(array([ 9, 11,  6,  6,  6,  7,  4,  7,  6,  5,  9,  9]),\n",
       " array([ 9, 14, 11, 10,  8,  6,  6,  7, 15,  3, 14, 11]),\n",
       " array([9, 7]),\n",
       " 2)"
      ]
     },
     "execution_count": 160,
     "metadata": {},
     "output_type": "execute_result"
    }
   ],
   "source": [
    "r1, r2 = generateRows()\n",
    "r1, r2, r1[r1 == r2], len(r1[r1 == r2])"
   ]
  },
  {
   "cell_type": "code",
   "execution_count": 251,
   "metadata": {},
   "outputs": [
    {
     "name": "stderr",
     "output_type": "stream",
     "text": [
      "100%|██████████| 1000000/1000000 [00:29<00:00, 34419.25it/s]\n"
     ]
    },
    {
     "data": {
      "text/plain": [
       "0.000272"
      ]
     },
     "execution_count": 251,
     "metadata": {},
     "output_type": "execute_result"
    }
   ],
   "source": [
    "n = int(1e6)\n",
    "successes = 0\n",
    "for _ in tqdm.tqdm(range(n)):\n",
    "    r1, r2 = generateRows()\n",
    "    matches = r1[r1 == r2]\n",
    "    if len(matches) == 5 and len(set(matches)) == len(matches):\n",
    "        successes += 1\n",
    "successes / n"
   ]
  },
  {
   "cell_type": "code",
   "execution_count": 181,
   "metadata": {},
   "outputs": [],
   "source": [
    "# prob exact 5 unique out of 3 rows of 12"
   ]
  },
  {
   "cell_type": "code",
   "execution_count": 192,
   "metadata": {},
   "outputs": [],
   "source": [
    "def generate3Rows():\n",
    "    r1 = np.random.randint(16, size=12)\n",
    "    r2 = np.random.randint(16, size=12)\n",
    "    r3 = np.random.randint(16, size=12)\n",
    "    return r1, r2, r3"
   ]
  },
  {
   "cell_type": "code",
   "execution_count": 189,
   "metadata": {},
   "outputs": [
    {
     "data": {
      "text/plain": [
       "(0.1171875, 0.00390625, 0.8203125, 0.05859375)"
      ]
     },
     "execution_count": 189,
     "metadata": {},
     "output_type": "execute_result"
    }
   ],
   "source": [
    "# single middle match, all 3 match, all differ, outer match\n",
    "2*1/16*15/16, 1/16*1/16, 15/16*14/16, 1/16 * 15/16"
   ]
  },
  {
   "cell_type": "code",
   "execution_count": 190,
   "metadata": {},
   "outputs": [
    {
     "data": {
      "text/plain": [
       "1.0"
      ]
     },
     "execution_count": 190,
     "metadata": {},
     "output_type": "execute_result"
    }
   ],
   "source": [
    "0.8203125 + 0.00390625 + 0.1171875 + 0.05859375"
   ]
  },
  {
   "cell_type": "code",
   "execution_count": 246,
   "metadata": {},
   "outputs": [
    {
     "data": {
      "text/plain": [
       "0.0036565785553990668"
      ]
     },
     "execution_count": 246,
     "metadata": {},
     "output_type": "execute_result"
    }
   ],
   "source": [
    "792 * (0.1171875)**5 * (1-0.1171875)**7 * 15*14*13*12 / 16**4"
   ]
  },
  {
   "cell_type": "code",
   "execution_count": 212,
   "metadata": {},
   "outputs": [
    {
     "data": {
      "text/plain": [
       "(array([ 2,  2, 15,  4, 15, 12,  5, 12, 11,  0,  0, 11]),\n",
       " array([ 2,  1, 14,  6,  7,  9, 13, 10,  4,  0, 13, 15]),\n",
       " array([ 9, 14, 10,  6,  1,  4,  6,  3,  6,  6, 13, 13]),\n",
       " array([ 2,  0,  6, 13]))"
      ]
     },
     "execution_count": 212,
     "metadata": {},
     "output_type": "execute_result"
    }
   ],
   "source": [
    "r1, r2, r3 = generate3Rows()\n",
    "matches = np.append(r1[r1 == r2], r2[r2 == r3])\n",
    "r1, r2, r3, matches"
   ]
  },
  {
   "cell_type": "code",
   "execution_count": 258,
   "metadata": {},
   "outputs": [
    {
     "name": "stderr",
     "output_type": "stream",
     "text": [
      "100%|██████████| 1000000/1000000 [00:51<00:00, 19547.31it/s]\n"
     ]
    },
    {
     "data": {
      "text/plain": [
       "0.003512"
      ]
     },
     "execution_count": 258,
     "metadata": {},
     "output_type": "execute_result"
    }
   ],
   "source": [
    "n = int(1e6)\n",
    "successes = 0\n",
    "for _ in tqdm.tqdm(range(n)):\n",
    "    r1, r2, r3 = generate3Rows()\n",
    "    matches = np.append(r1[r1 == r2], r2[r2 == r3])\n",
    "    if len(matches) == 5 and len(set(matches)) == len(matches):\n",
    "        successes += 1\n",
    "successes / n"
   ]
  },
  {
   "cell_type": "code",
   "execution_count": 267,
   "metadata": {},
   "outputs": [
    {
     "name": "stderr",
     "output_type": "stream",
     "text": [
      "100%|██████████| 1000000/1000000 [03:07<00:00, 5336.14it/s]\n"
     ]
    },
    {
     "data": {
      "text/plain": [
       "0.003719"
      ]
     },
     "execution_count": 267,
     "metadata": {},
     "output_type": "execute_result"
    }
   ],
   "source": [
    "n = int(1e6)\n",
    "successes = 0\n",
    "for _ in tqdm.tqdm(range(n)):\n",
    "    matches = []\n",
    "    for i in range(12):\n",
    "        triple = np.random.randint(16, size=3)\n",
    "        if triple[0] == triple[1] and triple[1] != triple[2]:\n",
    "            matches.append(triple[1])\n",
    "        if triple[0] != triple[1] and triple[1] == triple[2]:\n",
    "            matches.append(triple[1])\n",
    "    if len(matches) == 5 and len(set(matches)) == len(matches):\n",
    "        successes += 1\n",
    "successes / n"
   ]
  }
 ],
 "metadata": {
  "kernelspec": {
   "display_name": "Python 3",
   "language": "python",
   "name": "python3"
  },
  "language_info": {
   "codemirror_mode": {
    "name": "ipython",
    "version": 3
   },
   "file_extension": ".py",
   "mimetype": "text/x-python",
   "name": "python",
   "nbconvert_exporter": "python",
   "pygments_lexer": "ipython3",
   "version": "3.8.16"
  }
 },
 "nbformat": 4,
 "nbformat_minor": 4
}
