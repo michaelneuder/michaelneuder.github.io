{
 "cells": [
  {
   "cell_type": "code",
   "execution_count": 1,
   "metadata": {},
   "outputs": [],
   "source": [
    "import numpy as np\n",
    "import pandas as pd\n",
    "import matplotlib.pyplot as plt\n",
    "import json\n",
    "import requests\n",
    "import time\n",
    "import tqdm\n",
    "from datetime import datetime\n",
    "plt.rcParams['axes.grid'] = True\n",
    "plt.rcParams['grid.alpha'] = 0.3\n",
    "plt.rcParams['axes.titlesize'] = 18"
   ]
  },
  {
   "cell_type": "markdown",
   "metadata": {},
   "source": [
    "Finding the probability that given a 20-byte Ethereum EOA, when you line up the letters into 3 rows of 14, there are exactly 5 matches.\n",
    "\n",
    "Eg., \n",
    "\n",
    "```\n",
    "0x3d84a438Af72\n",
    "F6396785EEa97B\n",
    "32F903520e36C8\n",
    "```\n",
    "we have the distribution $X \\sim Bin(26, 1/16)$. So $P(X = 5) = \\binom{26}{5} \\left(\\frac{1}{16}\\right)^5 \\left(\\frac{15}{16}\\right)^{21}.$\n",
    "\n",
    "$$\n",
    "\\begin{align}\n",
    "P(X=5) &= \\frac{82025770389239788055419921875}{5070602400912917605986812821504} \\\\\n",
    "&\\approx 0.0161767\n",
    "\\end{align}\n",
    "$$"
   ]
  },
  {
   "cell_type": "code",
   "execution_count": 2,
   "metadata": {},
   "outputs": [],
   "source": [
    "def getMatches(inp):\n",
    "    row1 = inp[:12]\n",
    "    row2 = inp[12:26]\n",
    "    row3 = inp[26:]\n",
    "\n",
    "    return np.sum(row1 == row2[2:]) + np.sum(row2 == row3)"
   ]
  },
  {
   "cell_type": "code",
   "execution_count": 3,
   "metadata": {},
   "outputs": [
    {
     "data": {
      "text/plain": [
       "5"
      ]
     },
     "execution_count": 3,
     "metadata": {},
     "output_type": "execute_result"
    }
   ],
   "source": [
    "inp = '0x3d84a438Af72F6396785EEa97B32F903520e36C8'\n",
    "inp = np.asarray([int(inp[i:i+1],16) for i in range(2, len(inp))])\n",
    "\n",
    "getMatches(inp)"
   ]
  },
  {
   "cell_type": "code",
   "execution_count": 4,
   "metadata": {},
   "outputs": [
    {
     "data": {
      "text/plain": [
       "array([ 9,  2,  6, 10, 12, 10,  7,  8, 12,  8, 15, 10,  7,  0,  2,  2,  6,\n",
       "        9,  7, 11,  8, 10,  3,  7,  1, 14, 14, 11, 15,  1,  1,  5, 15, 12,\n",
       "       12,  8,  6,  7,  9,  1])"
      ]
     },
     "execution_count": 4,
     "metadata": {},
     "output_type": "execute_result"
    }
   ],
   "source": [
    "rnd = np.random.randint(16, size=40)\n",
    "rnd"
   ]
  },
  {
   "cell_type": "code",
   "execution_count": 5,
   "metadata": {},
   "outputs": [
    {
     "data": {
      "text/plain": [
       "3"
      ]
     },
     "execution_count": 5,
     "metadata": {},
     "output_type": "execute_result"
    }
   ],
   "source": [
    "getMatches(rnd)"
   ]
  },
  {
   "cell_type": "code",
   "execution_count": 19,
   "metadata": {},
   "outputs": [
    {
     "name": "stderr",
     "output_type": "stream",
     "text": [
      "100%|██████████| 100000/100000 [00:03<00:00, 32010.84it/s]\n",
      "  6%|▌         | 5813/100000 [00:00<00:03, 27672.10it/s]"
     ]
    },
    {
     "name": "stdout",
     "output_type": "stream",
     "text": [
      "0.01682\n"
     ]
    },
    {
     "name": "stderr",
     "output_type": "stream",
     "text": [
      "100%|██████████| 100000/100000 [00:03<00:00, 33085.18it/s]\n",
      "  7%|▋         | 6933/100000 [00:00<00:02, 34810.34it/s]"
     ]
    },
    {
     "name": "stdout",
     "output_type": "stream",
     "text": [
      "0.01565\n"
     ]
    },
    {
     "name": "stderr",
     "output_type": "stream",
     "text": [
      "100%|██████████| 100000/100000 [00:02<00:00, 34423.92it/s]\n",
      "  7%|▋         | 6744/100000 [00:00<00:02, 33930.87it/s]"
     ]
    },
    {
     "name": "stdout",
     "output_type": "stream",
     "text": [
      "0.0165\n"
     ]
    },
    {
     "name": "stderr",
     "output_type": "stream",
     "text": [
      "100%|██████████| 100000/100000 [00:03<00:00, 33152.01it/s]\n",
      "  6%|▌         | 6166/100000 [00:00<00:03, 30499.54it/s]"
     ]
    },
    {
     "name": "stdout",
     "output_type": "stream",
     "text": [
      "0.01591\n"
     ]
    },
    {
     "name": "stderr",
     "output_type": "stream",
     "text": [
      "100%|██████████| 100000/100000 [00:03<00:00, 33138.01it/s]"
     ]
    },
    {
     "name": "stdout",
     "output_type": "stream",
     "text": [
      "0.01546\n"
     ]
    },
    {
     "name": "stderr",
     "output_type": "stream",
     "text": [
      "\n"
     ]
    }
   ],
   "source": [
    "for i in range(5):\n",
    "    n = int(1e5)\n",
    "    res = dict.fromkeys(range(20),0)\n",
    "    for _ in tqdm.tqdm(range(n)):\n",
    "        rnd = np.random.randint(16, size=40)\n",
    "        matches = getMatches(rnd)\n",
    "        res[matches] += 1\n",
    "    print(res[5] / n)"
   ]
  },
  {
   "cell_type": "code",
   "execution_count": 274,
   "metadata": {},
   "outputs": [],
   "source": [
    "# distinct matches\n",
    "def getMatchValues(inp):\n",
    "    row1 = inp[:12]\n",
    "    row2 = inp[12:26]\n",
    "    row3 = inp[26:]\n",
    "\n",
    "    return np.append(row1[row1 == row2[2:]], row2[row2 == row3])"
   ]
  },
  {
   "cell_type": "code",
   "execution_count": 275,
   "metadata": {},
   "outputs": [
    {
     "data": {
      "text/plain": [
       "array([ 3, 10,  7,  9, 14])"
      ]
     },
     "execution_count": 275,
     "metadata": {},
     "output_type": "execute_result"
    }
   ],
   "source": [
    "inp = '0x3d84a438Af72F6396785EEa97B32F903520e36C8'\n",
    "inp = np.asarray([int(inp[i:i+1],16) for i in range(2, len(inp))])\n",
    "\n",
    "getMatchValues(inp)"
   ]
  },
  {
   "cell_type": "code",
   "execution_count": 276,
   "metadata": {},
   "outputs": [
    {
     "data": {
      "text/plain": [
       "array([ 3, 10,  7,  9, 14])"
      ]
     },
     "execution_count": 276,
     "metadata": {},
     "output_type": "execute_result"
    }
   ],
   "source": [
    "v"
   ]
  },
  {
   "cell_type": "code",
   "execution_count": 277,
   "metadata": {},
   "outputs": [
    {
     "data": {
      "text/plain": [
       "True"
      ]
     },
     "execution_count": 277,
     "metadata": {},
     "output_type": "execute_result"
    }
   ],
   "source": [
    "len(set(v)) == len(v)"
   ]
  },
  {
   "cell_type": "code",
   "execution_count": 278,
   "metadata": {},
   "outputs": [
    {
     "data": {
      "text/plain": [
       "(0.1171875, 0.10986328125, 0.1025390625, 0.09521484375, 0.087890625)"
      ]
     },
     "execution_count": 278,
     "metadata": {},
     "output_type": "execute_result"
    }
   ],
   "source": [
    "2 * 1/16 * 15/16, 2 * 1/16 * 15/16 * 15/16, 2 * 1/16 * 15/16 * 14/16, 2 * 1/16 * 15/16 * 13/16, 2 * 1/16 * 15/16 * 12/16"
   ]
  },
  {
   "cell_type": "code",
   "execution_count": 279,
   "metadata": {},
   "outputs": [
    {
     "name": "stderr",
     "output_type": "stream",
     "text": [
      " 24%|██▍       | 241015/1000000 [00:03<00:11, 65484.89it/s]\n"
     ]
    },
    {
     "ename": "KeyboardInterrupt",
     "evalue": "",
     "output_type": "error",
     "traceback": [
      "\u001b[0;31m---------------------------------------------------------------------------\u001b[0m",
      "\u001b[0;31mKeyboardInterrupt\u001b[0m                         Traceback (most recent call last)",
      "\u001b[0;32m<ipython-input-279-96f4411a78b4>\u001b[0m in \u001b[0;36m<module>\u001b[0;34m\u001b[0m\n\u001b[1;32m      2\u001b[0m \u001b[0msuccesses\u001b[0m \u001b[0;34m=\u001b[0m \u001b[0;36m0\u001b[0m\u001b[0;34m\u001b[0m\u001b[0;34m\u001b[0m\u001b[0m\n\u001b[1;32m      3\u001b[0m \u001b[0;32mfor\u001b[0m \u001b[0m_\u001b[0m \u001b[0;32min\u001b[0m \u001b[0mtqdm\u001b[0m\u001b[0;34m.\u001b[0m\u001b[0mtqdm\u001b[0m\u001b[0;34m(\u001b[0m\u001b[0mrange\u001b[0m\u001b[0;34m(\u001b[0m\u001b[0mn\u001b[0m\u001b[0;34m)\u001b[0m\u001b[0;34m)\u001b[0m\u001b[0;34m:\u001b[0m\u001b[0;34m\u001b[0m\u001b[0;34m\u001b[0m\u001b[0m\n\u001b[0;32m----> 4\u001b[0;31m     \u001b[0mrnd\u001b[0m \u001b[0;34m=\u001b[0m \u001b[0mnp\u001b[0m\u001b[0;34m.\u001b[0m\u001b[0mrandom\u001b[0m\u001b[0;34m.\u001b[0m\u001b[0mrandint\u001b[0m\u001b[0;34m(\u001b[0m\u001b[0;36m16\u001b[0m\u001b[0;34m,\u001b[0m \u001b[0msize\u001b[0m\u001b[0;34m=\u001b[0m\u001b[0;36m3\u001b[0m\u001b[0;34m)\u001b[0m\u001b[0;34m\u001b[0m\u001b[0;34m\u001b[0m\u001b[0m\n\u001b[0m\u001b[1;32m      5\u001b[0m     \u001b[0;32mif\u001b[0m \u001b[0;34m(\u001b[0m\u001b[0mrnd\u001b[0m\u001b[0;34m[\u001b[0m\u001b[0;36m0\u001b[0m\u001b[0;34m]\u001b[0m \u001b[0;34m==\u001b[0m \u001b[0mrnd\u001b[0m\u001b[0;34m[\u001b[0m\u001b[0;36m1\u001b[0m\u001b[0;34m]\u001b[0m\u001b[0;34m)\u001b[0m \u001b[0;32mand\u001b[0m \u001b[0;34m(\u001b[0m\u001b[0mrnd\u001b[0m\u001b[0;34m[\u001b[0m\u001b[0;36m1\u001b[0m\u001b[0;34m]\u001b[0m \u001b[0;34m!=\u001b[0m \u001b[0mrnd\u001b[0m\u001b[0;34m[\u001b[0m\u001b[0;36m2\u001b[0m\u001b[0;34m]\u001b[0m\u001b[0;34m)\u001b[0m\u001b[0;31m \u001b[0m\u001b[0;31m\\\u001b[0m\u001b[0;34m\u001b[0m\u001b[0;34m\u001b[0m\u001b[0m\n\u001b[1;32m      6\u001b[0m       \u001b[0;32mand\u001b[0m \u001b[0;34m(\u001b[0m\u001b[0mrnd\u001b[0m\u001b[0;34m[\u001b[0m\u001b[0;36m1\u001b[0m\u001b[0;34m]\u001b[0m \u001b[0;34m!=\u001b[0m \u001b[0;36m0\u001b[0m\u001b[0;34m)\u001b[0m \u001b[0;32mand\u001b[0m \u001b[0;34m(\u001b[0m\u001b[0mrnd\u001b[0m\u001b[0;34m[\u001b[0m\u001b[0;36m1\u001b[0m\u001b[0;34m]\u001b[0m \u001b[0;34m!=\u001b[0m \u001b[0;36m1\u001b[0m\u001b[0;34m)\u001b[0m\u001b[0;31m \u001b[0m\u001b[0;31m\\\u001b[0m\u001b[0;34m\u001b[0m\u001b[0;34m\u001b[0m\u001b[0m\n",
      "\u001b[0;32mmtrand.pyx\u001b[0m in \u001b[0;36mnumpy.random.mtrand.RandomState.randint\u001b[0;34m()\u001b[0m\n",
      "\u001b[0;32m_bounded_integers.pyx\u001b[0m in \u001b[0;36mnumpy.random._bounded_integers._rand_int64\u001b[0;34m()\u001b[0m\n",
      "\u001b[0;32m<__array_function__ internals>\u001b[0m in \u001b[0;36mprod\u001b[0;34m(*args, **kwargs)\u001b[0m\n",
      "\u001b[0;31mKeyboardInterrupt\u001b[0m: "
     ]
    }
   ],
   "source": [
    "n = int(1e6)\n",
    "successes = 0\n",
    "for _ in tqdm.tqdm(range(n)):\n",
    "    rnd = np.random.randint(16, size=3)\n",
    "    if (rnd[0] == rnd[1]) and (rnd[1] != rnd[2]) \\\n",
    "      and (rnd[1] != 0) and (rnd[1] != 1) \\\n",
    "      and (rnd[1] != 2) and (rnd[1] != 3):\n",
    "        successes += 1\n",
    "    if (rnd[0] != rnd[1]) and (rnd[1] == rnd[2]) \\\n",
    "      and (rnd[1] != 0) and (rnd[1] != 1) \\\n",
    "      and (rnd[1] != 2) and (rnd[1] != 3):\n",
    "        successes += 1\n",
    "successes / n"
   ]
  },
  {
   "cell_type": "code",
   "execution_count": 280,
   "metadata": {},
   "outputs": [
    {
     "name": "stderr",
     "output_type": "stream",
     "text": [
      "100%|██████████| 100000/100000 [00:03<00:00, 32165.96it/s]\n",
      "  6%|▋         | 6364/100000 [00:00<00:02, 31498.93it/s]"
     ]
    },
    {
     "name": "stdout",
     "output_type": "stream",
     "text": [
      "0.00494\n"
     ]
    },
    {
     "name": "stderr",
     "output_type": "stream",
     "text": [
      "100%|██████████| 100000/100000 [00:03<00:00, 32270.56it/s]\n",
      "  6%|▋         | 6411/100000 [00:00<00:02, 31881.42it/s]"
     ]
    },
    {
     "name": "stdout",
     "output_type": "stream",
     "text": [
      "0.00526\n"
     ]
    },
    {
     "name": "stderr",
     "output_type": "stream",
     "text": [
      "100%|██████████| 100000/100000 [00:03<00:00, 32822.53it/s]\n",
      "  6%|▌         | 5992/100000 [00:00<00:03, 28938.05it/s]"
     ]
    },
    {
     "name": "stdout",
     "output_type": "stream",
     "text": [
      "0.00518\n"
     ]
    },
    {
     "name": "stderr",
     "output_type": "stream",
     "text": [
      "100%|██████████| 100000/100000 [00:03<00:00, 32516.81it/s]\n",
      "  6%|▋         | 6425/100000 [00:00<00:02, 32332.53it/s]"
     ]
    },
    {
     "name": "stdout",
     "output_type": "stream",
     "text": [
      "0.00544\n"
     ]
    },
    {
     "name": "stderr",
     "output_type": "stream",
     "text": [
      "100%|██████████| 100000/100000 [00:03<00:00, 32728.23it/s]"
     ]
    },
    {
     "name": "stdout",
     "output_type": "stream",
     "text": [
      "0.00512\n"
     ]
    },
    {
     "name": "stderr",
     "output_type": "stream",
     "text": [
      "\n"
     ]
    }
   ],
   "source": [
    "for i in range(5):\n",
    "    n = int(1e5)\n",
    "    res = dict.fromkeys(range(20),0)\n",
    "    for _ in tqdm.tqdm(range(n)):\n",
    "        rnd = np.random.randint(16, size=40)\n",
    "        matches = getMatchValues(rnd)\n",
    "        matchCount = len(matches)\n",
    "        if len(set(matches)) == matchCount:\n",
    "            res[matchCount] += 1\n",
    "    print(res[5] / n)"
   ]
  },
  {
   "cell_type": "code",
   "execution_count": null,
   "metadata": {},
   "outputs": [],
   "source": []
  },
  {
   "cell_type": "code",
   "execution_count": 81,
   "metadata": {},
   "outputs": [
    {
     "ename": "SyntaxError",
     "evalue": "invalid syntax (<ipython-input-81-013e096afc94>, line 3)",
     "output_type": "error",
     "traceback": [
      "\u001b[0;36m  File \u001b[0;32m\"<ipython-input-81-013e096afc94>\"\u001b[0;36m, line \u001b[0;32m3\u001b[0m\n\u001b[0;31m    top   16/16\u001b[0m\n\u001b[0m          ^\u001b[0m\n\u001b[0;31mSyntaxError\u001b[0m\u001b[0;31m:\u001b[0m invalid syntax\n"
     ]
    }
   ],
   "source": [
    "# prob of 5 unique matching hex characters in a row\n",
    "\n",
    "top   16/16\n",
    "match 1/16\n",
    "\n",
    "top   15/16\n",
    "match 1/16\n",
    "\n",
    "top   14/16\n",
    "match 1/16\n",
    "\n",
    "top   13/16\n",
    "match 1/16\n",
    "\n",
    "top   12/16\n",
    "match 1/16\n",
    "\n",
    "\n",
    "middle 16/16\n",
    "match  1/16\n",
    "nmatch 15/16\n",
    "\n",
    "middle 15/16\n",
    "match  1/16\n",
    "nmatch 15/16\n",
    "\n",
    "middle 14/16\n",
    "match  1/16\n",
    "nmatch 15/16"
   ]
  },
  {
   "cell_type": "code",
   "execution_count": 84,
   "metadata": {},
   "outputs": [
    {
     "data": {
      "text/plain": [
       "(0.0625, 0.05859375, 0.0546875, 0.05078125, 0.046875)"
      ]
     },
     "execution_count": 84,
     "metadata": {},
     "output_type": "execute_result"
    }
   ],
   "source": [
    "1/16, 15/(16**2), 14/(16**2), 13/(16**2), 12/(16**2)"
   ]
  },
  {
   "cell_type": "code",
   "execution_count": 89,
   "metadata": {},
   "outputs": [
    {
     "data": {
      "text/plain": [
       "0.0003475294215604663"
      ]
     },
     "execution_count": 89,
     "metadata": {},
     "output_type": "execute_result"
    }
   ],
   "source": [
    "(1/16)**5 * 15*14*13*12 / (16**4) * 729"
   ]
  },
  {
   "cell_type": "code",
   "execution_count": 88,
   "metadata": {},
   "outputs": [
    {
     "data": {
      "text/plain": [
       "0.008053746169967013"
      ]
     },
     "execution_count": 88,
     "metadata": {},
     "output_type": "execute_result"
    }
   ],
   "source": [
    "(1/16)**5 *(15/16)**5 * (2**5) * 15*14*13*12 / (16**4) * 729"
   ]
  },
  {
   "cell_type": "code",
   "execution_count": null,
   "metadata": {},
   "outputs": [],
   "source": []
  },
  {
   "cell_type": "code",
   "execution_count": 227,
   "metadata": {},
   "outputs": [],
   "source": [
    "# prob exact 5 unique out of 2 rows of 12"
   ]
  },
  {
   "cell_type": "code",
   "execution_count": 272,
   "metadata": {},
   "outputs": [
    {
     "data": {
      "text/plain": [
       "0.00048075543546133304"
      ]
     },
     "execution_count": 272,
     "metadata": {},
     "output_type": "execute_result"
    }
   ],
   "source": [
    "792 * (1/16)**5 * (15/16)**7"
   ]
  },
  {
   "cell_type": "code",
   "execution_count": 172,
   "metadata": {},
   "outputs": [
    {
     "data": {
      "text/plain": [
       "0.00024031903176442368"
      ]
     },
     "execution_count": 172,
     "metadata": {},
     "output_type": "execute_result"
    }
   ],
   "source": [
    "792 * (1/16)**5 * (15/16)**7 * 15*14*13*12 / 16**4"
   ]
  },
  {
   "cell_type": "code",
   "execution_count": 92,
   "metadata": {},
   "outputs": [],
   "source": [
    "def generateRows():\n",
    "    r1 = np.random.randint(16, size=12)\n",
    "    r2 = np.random.randint(16, size=12)\n",
    "    return r1, r2"
   ]
  },
  {
   "cell_type": "code",
   "execution_count": 160,
   "metadata": {},
   "outputs": [
    {
     "data": {
      "text/plain": [
       "(array([ 9, 11,  6,  6,  6,  7,  4,  7,  6,  5,  9,  9]),\n",
       " array([ 9, 14, 11, 10,  8,  6,  6,  7, 15,  3, 14, 11]),\n",
       " array([9, 7]),\n",
       " 2)"
      ]
     },
     "execution_count": 160,
     "metadata": {},
     "output_type": "execute_result"
    }
   ],
   "source": [
    "r1, r2 = generateRows()\n",
    "r1, r2, r1[r1 == r2], len(r1[r1 == r2])"
   ]
  },
  {
   "cell_type": "code",
   "execution_count": 289,
   "metadata": {},
   "outputs": [
    {
     "name": "stderr",
     "output_type": "stream",
     "text": [
      "100%|██████████| 100000/100000 [00:03<00:00, 32046.61it/s]\n"
     ]
    },
    {
     "data": {
      "text/plain": [
       "0.00024"
      ]
     },
     "execution_count": 289,
     "metadata": {},
     "output_type": "execute_result"
    }
   ],
   "source": [
    "n = int(1e5)\n",
    "successes = 0\n",
    "for _ in tqdm.tqdm(range(n)):\n",
    "    r1, r2 = generateRows()\n",
    "    matches = r1[r1 == r2]\n",
    "    if len(matches) == 5 and len(set(matches)) == len(matches):\n",
    "        successes += 1\n",
    "successes / n"
   ]
  },
  {
   "cell_type": "code",
   "execution_count": 181,
   "metadata": {},
   "outputs": [],
   "source": [
    "# prob exact 5 unique out of 3 rows of 12"
   ]
  },
  {
   "cell_type": "code",
   "execution_count": 290,
   "metadata": {},
   "outputs": [],
   "source": [
    "def generate3Rows():\n",
    "    r1 = np.random.randint(16, size=12)\n",
    "    r2 = np.random.randint(16, size=12)\n",
    "    r3 = np.random.randint(16, size=12)\n",
    "    return r1, r2, r3"
   ]
  },
  {
   "cell_type": "code",
   "execution_count": 189,
   "metadata": {},
   "outputs": [
    {
     "data": {
      "text/plain": [
       "(0.1171875, 0.00390625, 0.8203125, 0.05859375)"
      ]
     },
     "execution_count": 189,
     "metadata": {},
     "output_type": "execute_result"
    }
   ],
   "source": [
    "# single middle match, all 3 match, all differ, outer match\n",
    "2*1/16*15/16, 1/16*1/16, 15/16*14/16, 1/16 * 15/16"
   ]
  },
  {
   "cell_type": "code",
   "execution_count": 190,
   "metadata": {},
   "outputs": [
    {
     "data": {
      "text/plain": [
       "1.0"
      ]
     },
     "execution_count": 190,
     "metadata": {},
     "output_type": "execute_result"
    }
   ],
   "source": [
    "0.8203125 + 0.00390625 + 0.1171875 + 0.05859375"
   ]
  },
  {
   "cell_type": "code",
   "execution_count": 291,
   "metadata": {},
   "outputs": [
    {
     "data": {
      "text/plain": [
       "0.0073149429855504655"
      ]
     },
     "execution_count": 291,
     "metadata": {},
     "output_type": "execute_result"
    }
   ],
   "source": [
    "792 * (0.1171875)**5 * (1-0.1171875)**7"
   ]
  },
  {
   "cell_type": "code",
   "execution_count": 292,
   "metadata": {},
   "outputs": [
    {
     "data": {
      "text/plain": [
       "0.0036565785553990668"
      ]
     },
     "execution_count": 292,
     "metadata": {},
     "output_type": "execute_result"
    }
   ],
   "source": [
    "792 * (0.1171875)**5 * (1-0.1171875)**7 * 15*14*13*12 / 16**4"
   ]
  },
  {
   "cell_type": "code",
   "execution_count": 293,
   "metadata": {},
   "outputs": [
    {
     "data": {
      "text/plain": [
       "(array([ 0, 11,  7, 10,  7,  3, 14,  6, 14, 11,  6,  6]),\n",
       " array([ 6,  4, 11,  3, 11,  9, 10,  8,  8, 15,  6, 15]),\n",
       " array([ 9,  4,  9,  5, 11, 10,  5,  9,  9,  7, 12, 12]),\n",
       " array([ 6,  4, 11]))"
      ]
     },
     "execution_count": 293,
     "metadata": {},
     "output_type": "execute_result"
    }
   ],
   "source": [
    "r1, r2, r3 = generate3Rows()\n",
    "matches = np.append(r1[r1 == r2], r2[r2 == r3])\n",
    "r1, r2, r3, matches"
   ]
  },
  {
   "cell_type": "code",
   "execution_count": 392,
   "metadata": {},
   "outputs": [
    {
     "name": "stderr",
     "output_type": "stream",
     "text": [
      "100%|██████████| 10000/10000 [00:00<00:00, 17647.21it/s]\n",
      " 38%|███▊      | 3750/10000 [00:00<00:00, 18856.29it/s]"
     ]
    },
    {
     "name": "stdout",
     "output_type": "stream",
     "text": [
      "0.0041\n"
     ]
    },
    {
     "name": "stderr",
     "output_type": "stream",
     "text": [
      "100%|██████████| 10000/10000 [00:00<00:00, 18597.21it/s]\n",
      " 37%|███▋      | 3677/10000 [00:00<00:00, 18173.65it/s]"
     ]
    },
    {
     "name": "stdout",
     "output_type": "stream",
     "text": [
      "0.003\n"
     ]
    },
    {
     "name": "stderr",
     "output_type": "stream",
     "text": [
      "100%|██████████| 10000/10000 [00:00<00:00, 18417.43it/s]\n",
      " 38%|███▊      | 3764/10000 [00:00<00:00, 18445.64it/s]"
     ]
    },
    {
     "name": "stdout",
     "output_type": "stream",
     "text": [
      "0.0045\n"
     ]
    },
    {
     "name": "stderr",
     "output_type": "stream",
     "text": [
      "100%|██████████| 10000/10000 [00:00<00:00, 18172.50it/s]\n",
      " 38%|███▊      | 3778/10000 [00:00<00:00, 19037.79it/s]"
     ]
    },
    {
     "name": "stdout",
     "output_type": "stream",
     "text": [
      "0.0023\n"
     ]
    },
    {
     "name": "stderr",
     "output_type": "stream",
     "text": [
      "100%|██████████| 10000/10000 [00:00<00:00, 18742.11it/s]"
     ]
    },
    {
     "name": "stdout",
     "output_type": "stream",
     "text": [
      "0.0035\n"
     ]
    },
    {
     "name": "stderr",
     "output_type": "stream",
     "text": [
      "\n"
     ]
    },
    {
     "data": {
      "text/plain": [
       "[0.0041, 0.003, 0.0045, 0.0023, 0.0035]"
      ]
     },
     "execution_count": 392,
     "metadata": {},
     "output_type": "execute_result"
    }
   ],
   "source": [
    "res = []\n",
    "for i in range(5):\n",
    "    n = int(1e4)\n",
    "    successes = 0\n",
    "    for _ in tqdm.tqdm(range(n)):\n",
    "        r1, r2, r3 = generate3Rows()\n",
    "        matches = np.append(r1[r1 == r2], r2[r2 == r3])\n",
    "        if len(matches) == 5 and len(set(matches)) == len(matches):\n",
    "            successes += 1\n",
    "    print(successes / n)\n",
    "    res.append(successes / n)\n",
    "res"
   ]
  },
  {
   "cell_type": "code",
   "execution_count": 393,
   "metadata": {},
   "outputs": [
    {
     "data": {
      "text/plain": [
       "0.0034799999999999996"
      ]
     },
     "execution_count": 393,
     "metadata": {},
     "output_type": "execute_result"
    }
   ],
   "source": [
    "np.mean(res)"
   ]
  },
  {
   "cell_type": "code",
   "execution_count": 310,
   "metadata": {},
   "outputs": [
    {
     "data": {
      "text/plain": [
       "0.1171875"
      ]
     },
     "execution_count": 310,
     "metadata": {},
     "output_type": "execute_result"
    }
   ],
   "source": [
    "15/128"
   ]
  },
  {
   "cell_type": "code",
   "execution_count": 312,
   "metadata": {},
   "outputs": [
    {
     "name": "stderr",
     "output_type": "stream",
     "text": [
      "100%|██████████| 100000/100000 [00:02<00:00, 36141.18it/s]\n"
     ]
    },
    {
     "data": {
      "text/plain": [
       "0.11721"
      ]
     },
     "execution_count": 312,
     "metadata": {},
     "output_type": "execute_result"
    }
   ],
   "source": [
    "n = int(1e5)\n",
    "successes = 0\n",
    "for _ in tqdm.tqdm(range(n)):\n",
    "    double1 = np.random.randint(16, size=2)\n",
    "    double2 = np.random.randint(16, size=2)\n",
    "    if double1[0] == double1[1] and double2[0] != double2[1]:\n",
    "        successes += 1\n",
    "    if double1[0] != double1[1] and double2[0] == double2[1]:\n",
    "        successes += 1\n",
    "#     r1, r2, r3 = generate3Rows()\n",
    "#     matches = np.append(r1[r1 == r2], r2[r2 == r3])\n",
    "#     if len(matches) == 5 and len(set(matches)) == len(matches):\n",
    "#         successes += 1\n",
    "successes / n"
   ]
  },
  {
   "cell_type": "code",
   "execution_count": 321,
   "metadata": {},
   "outputs": [
    {
     "data": {
      "text/plain": [
       "0.017216390698337275"
      ]
     },
     "execution_count": 321,
     "metadata": {},
     "output_type": "execute_result"
    }
   ],
   "source": [
    "495 * (0.1171875)**4 * (1-0.1171875)**8 * 15*14*13*12 / 16**4"
   ]
  },
  {
   "cell_type": "code",
   "execution_count": 323,
   "metadata": {},
   "outputs": [
    {
     "name": "stderr",
     "output_type": "stream",
     "text": [
      "100%|██████████| 100000/100000 [00:05<00:00, 19208.12it/s]\n"
     ]
    },
    {
     "data": {
      "text/plain": [
       "0.01706"
      ]
     },
     "execution_count": 323,
     "metadata": {},
     "output_type": "execute_result"
    }
   ],
   "source": [
    "n = int(1e5)\n",
    "successes = 0\n",
    "for _ in tqdm.tqdm(range(n)):\n",
    "    r1, r2, r3 = generate3Rows()\n",
    "    matches = np.append(r1[r1 == r2], r2[r2 == r3])\n",
    "    if len(matches) == 4 and len(set(matches)) == len(matches) and 0 not in matches:\n",
    "        successes += 1\n",
    "successes / n"
   ]
  },
  {
   "cell_type": "code",
   "execution_count": 326,
   "metadata": {},
   "outputs": [
    {
     "data": {
      "text/plain": [
       "0.002"
      ]
     },
     "execution_count": 326,
     "metadata": {},
     "output_type": "execute_result"
    }
   ],
   "source": [
    "0.00201"
   ]
  },
  {
   "cell_type": "code",
   "execution_count": 403,
   "metadata": {},
   "outputs": [
    {
     "name": "stderr",
     "output_type": "stream",
     "text": [
      "100%|██████████| 10000/10000 [00:00<00:00, 26564.17it/s]\n",
      " 57%|█████▊    | 5750/10000 [00:00<00:00, 28972.20it/s]"
     ]
    },
    {
     "name": "stdout",
     "output_type": "stream",
     "text": [
      "0.002\n"
     ]
    },
    {
     "name": "stderr",
     "output_type": "stream",
     "text": [
      "100%|██████████| 10000/10000 [00:00<00:00, 28107.02it/s]\n",
      " 55%|█████▌    | 5508/10000 [00:00<00:00, 27888.47it/s]"
     ]
    },
    {
     "name": "stdout",
     "output_type": "stream",
     "text": [
      "0.0017\n"
     ]
    },
    {
     "name": "stderr",
     "output_type": "stream",
     "text": [
      "100%|██████████| 10000/10000 [00:00<00:00, 26927.70it/s]\n",
      " 51%|█████     | 5116/10000 [00:00<00:00, 25593.36it/s]"
     ]
    },
    {
     "name": "stdout",
     "output_type": "stream",
     "text": [
      "0.0023\n"
     ]
    },
    {
     "name": "stderr",
     "output_type": "stream",
     "text": [
      "100%|██████████| 10000/10000 [00:00<00:00, 26042.76it/s]\n",
      " 55%|█████▌    | 5515/10000 [00:00<00:00, 27674.21it/s]"
     ]
    },
    {
     "name": "stdout",
     "output_type": "stream",
     "text": [
      "0.0028\n"
     ]
    },
    {
     "name": "stderr",
     "output_type": "stream",
     "text": [
      "100%|██████████| 10000/10000 [00:00<00:00, 27747.41it/s]"
     ]
    },
    {
     "name": "stdout",
     "output_type": "stream",
     "text": [
      "0.0015\n"
     ]
    },
    {
     "name": "stderr",
     "output_type": "stream",
     "text": [
      "\n"
     ]
    },
    {
     "data": {
      "text/plain": [
       "[0.002, 0.0017, 0.0023, 0.0028, 0.0015]"
      ]
     },
     "execution_count": 403,
     "metadata": {},
     "output_type": "execute_result"
    }
   ],
   "source": [
    "res = []\n",
    "for i in range(5):\n",
    "    n = int(1e4)\n",
    "    successes = 0\n",
    "    for _ in tqdm.tqdm(range(n)):\n",
    "        double1 = np.random.randint(16, size=2)\n",
    "        double2 = np.random.randint(16, size=2)\n",
    "        matches = []\n",
    "        # single match in first two cols\n",
    "        if double1[0] == double1[1] and double2[0] != double2[1]:\n",
    "            matches.append(double1[0])\n",
    "        elif double1[0] != double1[1] and double2[0] == double2[1]:\n",
    "            matches.append(double2[0])\n",
    "        else:\n",
    "            continue\n",
    "\n",
    "        r1, r2, r3 = generate3Rows()\n",
    "\n",
    "        matches = np.asarray(matches)\n",
    "        newmatches = np.append(r1[r1 == r2], r2[r2 == r3])\n",
    "        matches = np.append(matches, newmatches)\n",
    "        if len(matches) == 5 and len(set(matches)) == len(matches):\n",
    "            successes += 1\n",
    "    print(successes / n)\n",
    "    res.append(successes / n)\n",
    "res"
   ]
  },
  {
   "cell_type": "code",
   "execution_count": 404,
   "metadata": {},
   "outputs": [
    {
     "data": {
      "text/plain": [
       "0.00206"
      ]
     },
     "execution_count": 404,
     "metadata": {},
     "output_type": "execute_result"
    }
   ],
   "source": [
    "np.mean(res)"
   ]
  },
  {
   "cell_type": "code",
   "execution_count": 334,
   "metadata": {},
   "outputs": [
    {
     "data": {
      "text/plain": [
       "0.003662109375"
      ]
     },
     "execution_count": 334,
     "metadata": {},
     "output_type": "execute_result"
    }
   ],
   "source": [
    "15/4096"
   ]
  },
  {
   "cell_type": "code",
   "execution_count": 374,
   "metadata": {},
   "outputs": [
    {
     "name": "stderr",
     "output_type": "stream",
     "text": [
      "100%|██████████| 100000/100000 [00:02<00:00, 36851.74it/s]\n"
     ]
    },
    {
     "data": {
      "text/plain": [
       "0.00379"
      ]
     },
     "execution_count": 374,
     "metadata": {},
     "output_type": "execute_result"
    }
   ],
   "source": [
    "n = int(1e5)\n",
    "successes = 0\n",
    "for _ in tqdm.tqdm(range(n)):\n",
    "    double1 = np.random.randint(16, size=2)\n",
    "    double2 = np.random.randint(16, size=2)\n",
    "    if double1[0] == double1[1] and double2[0] == double2[1] and double1[0] != double2[0]:\n",
    "        successes += 1\n",
    "successes / n"
   ]
  },
  {
   "cell_type": "code",
   "execution_count": 336,
   "metadata": {},
   "outputs": [
    {
     "data": {
      "text/plain": [
       "0.000225"
      ]
     },
     "execution_count": 336,
     "metadata": {},
     "output_type": "execute_result"
    }
   ],
   "source": [
    "0.000225"
   ]
  },
  {
   "cell_type": "code",
   "execution_count": 409,
   "metadata": {},
   "outputs": [
    {
     "name": "stderr",
     "output_type": "stream",
     "text": [
      "100%|██████████| 10000/10000 [00:00<00:00, 34267.13it/s]\n",
      " 73%|███████▎  | 7276/10000 [00:00<00:00, 36567.87it/s]"
     ]
    },
    {
     "name": "stdout",
     "output_type": "stream",
     "text": [
      "0.0003\n"
     ]
    },
    {
     "name": "stderr",
     "output_type": "stream",
     "text": [
      "100%|██████████| 10000/10000 [00:00<00:00, 36186.37it/s]\n",
      " 62%|██████▏   | 6200/10000 [00:00<00:00, 29752.58it/s]"
     ]
    },
    {
     "name": "stdout",
     "output_type": "stream",
     "text": [
      "0.0002\n"
     ]
    },
    {
     "name": "stderr",
     "output_type": "stream",
     "text": [
      "100%|██████████| 10000/10000 [00:00<00:00, 32656.79it/s]\n",
      " 67%|██████▋   | 6745/10000 [00:00<00:00, 34192.54it/s]"
     ]
    },
    {
     "name": "stdout",
     "output_type": "stream",
     "text": [
      "0.0002\n"
     ]
    },
    {
     "name": "stderr",
     "output_type": "stream",
     "text": [
      "100%|██████████| 10000/10000 [00:00<00:00, 33820.70it/s]\n",
      " 69%|██████▊   | 6867/10000 [00:00<00:00, 33250.07it/s]"
     ]
    },
    {
     "name": "stdout",
     "output_type": "stream",
     "text": [
      "0.0003\n"
     ]
    },
    {
     "name": "stderr",
     "output_type": "stream",
     "text": [
      "\r",
      "100%|██████████| 10000/10000 [00:00<00:00, 34581.62it/s]"
     ]
    },
    {
     "name": "stdout",
     "output_type": "stream",
     "text": [
      "0.0002\n"
     ]
    },
    {
     "name": "stderr",
     "output_type": "stream",
     "text": [
      "\n"
     ]
    },
    {
     "data": {
      "text/plain": [
       "[0.0003, 0.0002, 0.0002, 0.0003, 0.0002]"
      ]
     },
     "execution_count": 409,
     "metadata": {},
     "output_type": "execute_result"
    }
   ],
   "source": [
    "res = []\n",
    "for i in range(5):\n",
    "    n = int(1e4)\n",
    "    successes = 0\n",
    "    for _ in tqdm.tqdm(range(n)):\n",
    "        double1 = np.random.randint(16, size=2)\n",
    "        double2 = np.random.randint(16, size=2)\n",
    "        matches = []\n",
    "        # two matches in first two cols\n",
    "        if double1[0] == double1[1] and double2[0] == double2[1] and double1[0] != double2[0]:\n",
    "            matches.append(double1[0])\n",
    "            matches.append(double2[0])\n",
    "        else:\n",
    "            continue\n",
    "\n",
    "        r1, r2, r3 = generate3Rows()\n",
    "        matches = np.asarray(matches)\n",
    "        newmatches = np.append(r1[r1 == r2], r2[r2 == r3])\n",
    "        matches = np.append(matches, newmatches)\n",
    "        if len(matches) == 5 and len(set(matches)) == len(matches):\n",
    "            successes += 1\n",
    "    print(successes / n)\n",
    "    res.append(successes / n)\n",
    "res"
   ]
  },
  {
   "cell_type": "code",
   "execution_count": 410,
   "metadata": {},
   "outputs": [
    {
     "data": {
      "text/plain": [
       "0.00024000000000000003"
      ]
     },
     "execution_count": 410,
     "metadata": {},
     "output_type": "execute_result"
    }
   ],
   "source": [
    "np.mean(res)"
   ]
  },
  {
   "cell_type": "code",
   "execution_count": 338,
   "metadata": {},
   "outputs": [
    {
     "data": {
      "text/plain": [
       "0.005899"
      ]
     },
     "execution_count": 338,
     "metadata": {},
     "output_type": "execute_result"
    }
   ],
   "source": [
    "0.005899"
   ]
  },
  {
   "cell_type": "code",
   "execution_count": 371,
   "metadata": {},
   "outputs": [
    {
     "name": "stderr",
     "output_type": "stream",
     "text": [
      "100%|██████████| 100000/100000 [00:09<00:00, 10845.48it/s]\n"
     ]
    },
    {
     "data": {
      "text/plain": [
       "0.00533"
      ]
     },
     "execution_count": 371,
     "metadata": {},
     "output_type": "execute_result"
    }
   ],
   "source": [
    "n = int(1e5)\n",
    "successes = 0\n",
    "for _ in tqdm.tqdm(range(n)):\n",
    "    double1 = np.random.randint(16, size=2)\n",
    "    double2 = np.random.randint(16, size=2)\n",
    "    matches = []\n",
    "    if double1[0] == double1[1]:\n",
    "        matches.append(double1[0])\n",
    "    if double2[0] == double2[1]:\n",
    "        matches.append(double2[0])\n",
    "    \n",
    "    r1, r2, r3 = generate3Rows()\n",
    "    matches = np.asarray(matches)\n",
    "    newmatches = np.append(r1[r1 == r2], r2[r2 == r3])\n",
    "    matches = np.append(matches, newmatches)\n",
    "    if len(matches) == 5 and len(set(matches)) == len(matches):\n",
    "        successes += 1\n",
    "successes / n"
   ]
  },
  {
   "cell_type": "code",
   "execution_count": null,
   "metadata": {},
   "outputs": [],
   "source": []
  },
  {
   "cell_type": "code",
   "execution_count": null,
   "metadata": {},
   "outputs": [],
   "source": []
  },
  {
   "cell_type": "code",
   "execution_count": 267,
   "metadata": {},
   "outputs": [
    {
     "name": "stderr",
     "output_type": "stream",
     "text": [
      "100%|██████████| 1000000/1000000 [03:07<00:00, 5336.14it/s]\n"
     ]
    },
    {
     "data": {
      "text/plain": [
       "0.003719"
      ]
     },
     "execution_count": 267,
     "metadata": {},
     "output_type": "execute_result"
    }
   ],
   "source": [
    "n = int(1e6)\n",
    "successes = 0\n",
    "for _ in tqdm.tqdm(range(n)):\n",
    "    matches = []\n",
    "    for i in range(12):\n",
    "        triple = np.random.randint(16, size=3)\n",
    "        if triple[0] == triple[1] and triple[1] != triple[2]:\n",
    "            matches.append(triple[1])\n",
    "        if triple[0] != triple[1] and triple[1] == triple[2]:\n",
    "            matches.append(triple[1])\n",
    "    if len(matches) == 5 and len(set(matches)) == len(matches):\n",
    "        successes += 1\n",
    "successes / n"
   ]
  }
 ],
 "metadata": {
  "kernelspec": {
   "display_name": "Python 3",
   "language": "python",
   "name": "python3"
  },
  "language_info": {
   "codemirror_mode": {
    "name": "ipython",
    "version": 3
   },
   "file_extension": ".py",
   "mimetype": "text/x-python",
   "name": "python",
   "nbconvert_exporter": "python",
   "pygments_lexer": "ipython3",
   "version": "3.8.16"
  }
 },
 "nbformat": 4,
 "nbformat_minor": 4
}
